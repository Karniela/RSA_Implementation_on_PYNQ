{
 "cells": [
  {
   "cell_type": "markdown",
   "metadata": {},
   "source": [
    "## RSA Testbench\n",
    "\n",
    "\n",
    "This notebook is to test the implementation of a RSA decryption running on the programmable logic. "
   ]
  },
  {
   "cell_type": "code",
   "execution_count": 1,
   "metadata": {},
   "outputs": [],
   "source": [
    "from pynq import Overlay\n",
    "from pynq import MMIO\n",
    "import numpy as np\n",
    "import struct\n",
    "import binascii\n",
    "import math\n",
    "import cmath\n",
    "import random\n",
    "import sympy\n",
    "import matplotlib.pyplot as plt\n",
    "\n",
    "NUM_SAMPLES = 10"
   ]
  },
  {
   "cell_type": "code",
   "execution_count": 2,
   "metadata": {},
   "outputs": [
    {
     "data": {
      "application/javascript": [
       "\n",
       "try {\n",
       "require(['notebook/js/codecell'], function(codecell) {\n",
       "  codecell.CodeCell.options_default.highlight_modes[\n",
       "      'magic_text/x-csrc'] = {'reg':[/^%%microblaze/]};\n",
       "  Jupyter.notebook.events.one('kernel_ready.Kernel', function(){\n",
       "      Jupyter.notebook.get_cells().map(function(cell){\n",
       "          if (cell.cell_type == 'code'){ cell.auto_highlight(); } }) ;\n",
       "  });\n",
       "});\n",
       "} catch (e) {};\n"
      ]
     },
     "metadata": {},
     "output_type": "display_data"
    },
    {
     "data": {
      "application/javascript": [
       "\n",
       "try {\n",
       "require(['notebook/js/codecell'], function(codecell) {\n",
       "  codecell.CodeCell.options_default.highlight_modes[\n",
       "      'magic_text/x-csrc'] = {'reg':[/^%%pybind11/]};\n",
       "  Jupyter.notebook.events.one('kernel_ready.Kernel', function(){\n",
       "      Jupyter.notebook.get_cells().map(function(cell){\n",
       "          if (cell.cell_type == 'code'){ cell.auto_highlight(); } }) ;\n",
       "  });\n",
       "});\n",
       "} catch (e) {};\n"
      ]
     },
     "metadata": {},
     "output_type": "display_data"
    }
   ],
   "source": [
    "ol=Overlay('./rsa.bit') #Change name of bitstream as required"
   ]
  },
  {
   "cell_type": "code",
   "execution_count": 3,
   "metadata": {},
   "outputs": [],
   "source": [
    "rsa_ip=MMIO(0x40000000,10000) #Change base address as required"
   ]
  },
  {
   "cell_type": "code",
   "execution_count": 11,
   "metadata": {},
   "outputs": [],
   "source": [
    "d_input=np.zeros(NUM_SAMPLES)\n",
    "N_input=np.zeros(NUM_SAMPLES)\n",
    "y_input=np.zeros(NUM_SAMPLES)\n",
    "x_output=np.zeros(NUM_SAMPLES)"
   ]
  },
  {
   "cell_type": "code",
   "execution_count": 38,
   "metadata": {},
   "outputs": [],
   "source": [
    "half_bit = 8\n",
    "file_length = 100\n",
    "\n",
    "def gen_p_q(bit):\n",
    "    primes = [i for i in range(1 << (bit-2), min((1 << (bit - 2)) + 20000, (1 << (bit-1)))) if sympy.isprime(i)]\n",
    "    #print(primes)\n",
    "    while(True):\n",
    "        p = random.choice(primes)\n",
    "        if(sympy.isprime(2*p+1)):\n",
    "            break\n",
    "        \n",
    "    while(True):\n",
    "        q = random.choice(primes)\n",
    "        if(sympy.isprime(2*q+1) and q != p):\n",
    "            break\n",
    "        \n",
    "    return 2*p+1, 2*q+1\n",
    "\n",
    "\n",
    "def gen_d(e, p, q):\n",
    "    d = pow(e, -1, (p-1) * (q-1))\n",
    "    return d\n",
    "\n",
    "p, q = gen_p_q(half_bit)\n",
    "e = 65537\n",
    "d = gen_d(e, p, q)\n",
    "n = p * q"
   ]
  },
  {
   "cell_type": "code",
   "execution_count": 39,
   "metadata": {},
   "outputs": [
    {
     "name": "stdout",
     "output_type": "stream",
     "text": [
      "18516\n",
      "16937\n",
      "29893\n",
      "12409\n",
      "Result from FPGA: 12409\n",
      "Golden x: 12409\n",
      "Type of x: <class 'int'>\n",
      "Test 1: PASS - FPGA output matches golden output\n",
      "29505\n",
      "16937\n",
      "29893\n",
      "16840\n",
      "Result from FPGA: 16840\n",
      "Golden x: 16840\n",
      "Type of x: <class 'int'>\n",
      "Test 2: PASS - FPGA output matches golden output\n",
      "19969\n",
      "16937\n",
      "29893\n",
      "26792\n",
      "Result from FPGA: 26792\n",
      "Golden x: 26792\n",
      "Type of x: <class 'int'>\n",
      "Test 3: PASS - FPGA output matches golden output\n",
      "24209\n",
      "16937\n",
      "29893\n",
      "2411\n",
      "Result from FPGA: 2411\n",
      "Golden x: 2411\n",
      "Type of x: <class 'int'>\n",
      "Test 4: PASS - FPGA output matches golden output\n",
      "18810\n",
      "16937\n",
      "29893\n",
      "9205\n",
      "Result from FPGA: 9205\n",
      "Golden x: 9205\n",
      "Type of x: <class 'int'>\n",
      "Test 5: PASS - FPGA output matches golden output\n",
      "13182\n",
      "16937\n",
      "29893\n",
      "14800\n",
      "Result from FPGA: 14800\n",
      "Golden x: 14800\n",
      "Type of x: <class 'int'>\n",
      "Test 6: PASS - FPGA output matches golden output\n",
      "21565\n",
      "16937\n",
      "29893\n",
      "15209\n",
      "Result from FPGA: 15209\n",
      "Golden x: 15209\n",
      "Type of x: <class 'int'>\n",
      "Test 7: PASS - FPGA output matches golden output\n",
      "17144\n",
      "16937\n",
      "29893\n",
      "6772\n",
      "Result from FPGA: 6772\n",
      "Golden x: 6772\n",
      "Type of x: <class 'int'>\n",
      "Test 8: PASS - FPGA output matches golden output\n",
      "22235\n",
      "16937\n",
      "29893\n",
      "19269\n",
      "Result from FPGA: 19269\n",
      "Golden x: 19269\n",
      "Type of x: <class 'int'>\n",
      "Test 9: PASS - FPGA output matches golden output\n",
      "3174\n",
      "16937\n",
      "29893\n",
      "25552\n",
      "Result from FPGA: 25552\n",
      "Golden x: 25552\n",
      "Type of x: <class 'int'>\n",
      "Test 10: PASS - FPGA output matches golden output\n"
     ]
    }
   ],
   "source": [
    "# Helper function to split a large integer into 32-bit chunks\n",
    "def pack_32bit_chunks(value):\n",
    "    chunks = []\n",
    "    while value > 0:\n",
    "        chunks.append(value & 0xFFFFFFFF)  # Extract the least significant 32 bits\n",
    "        value >>= 32  # Shift the value right by 32 bits\n",
    "    if not chunks:  # If value is 0, we still need one 32-bit chunk\n",
    "        chunks.append(0)\n",
    "    return chunks\n",
    "\n",
    "\n",
    "for i in range(NUM_SAMPLES):\n",
    "    #Computing golden output\n",
    "    gold_x = random.randint(1, (p-1) * (q-1) - 1)\n",
    "    \n",
    "    #Generating random inputs\n",
    "    y=pow(gold_x, e, n)\n",
    "    x2 = pow(y, d, n)\n",
    "    print(y)\n",
    "    print(d)\n",
    "    print(n)\n",
    "    print(x2)\n",
    "    \n",
    "    #Converting input to bytes to be sent to FPGA\n",
    "    y_packed = struct.pack('<I', y)\n",
    "    d_packed = struct.pack('<I', d)\n",
    "    n_packed = struct.pack('<I', n)\n",
    "    \n",
    "    #Writing values to the FPGA\n",
    "    rsa_ip.write(0x10,d_packed)                             #Change the offset as mentioned in vivado file\n",
    "    rsa_ip.write(0x18,n_packed)                             #Change the offset as mentioned in vivado file\n",
    "    rsa_ip.write(0x20,y_packed)\n",
    "    \n",
    "    #Starting and stopping the IP (Don't change this)\n",
    "    rsa_ip.write(0x00,1)\n",
    "    rsa_ip.write(0x00,0)\n",
    "    \n",
    "    #Reading from IP\n",
    "    x=rsa_ip.read(0x28)                        #Change the offset as mentioned in vivado file\n",
    "    \n",
    "    # Displaying the result\n",
    "    print(f\"Result from FPGA: {x}\")\n",
    "    print(f\"Golden x: {gold_x}\")\n",
    "    print(f\"Type of x: {type(x)}\")\n",
    "    \n",
    "    # Comparing with golden output\n",
    "    # x (decrypted from FPGA) should match the original gold_x\n",
    "    if x == gold_x:\n",
    "        print(f\"Test {i + 1}: PASS - FPGA output matches golden output\")\n",
    "    else:\n",
    "        print(f\"Test {i + 1}: FAIL - FPGA output does not match golden output\")"
   ]
  },
  {
   "cell_type": "code",
   "execution_count": null,
   "metadata": {},
   "outputs": [],
   "source": []
  }
 ],
 "metadata": {
  "kernelspec": {
   "display_name": "Python 3 (ipykernel)",
   "language": "python",
   "name": "python3"
  },
  "language_info": {
   "codemirror_mode": {
    "name": "ipython",
    "version": 3
   },
   "file_extension": ".py",
   "mimetype": "text/x-python",
   "name": "python",
   "nbconvert_exporter": "python",
   "pygments_lexer": "ipython3",
   "version": "3.10.4"
  }
 },
 "nbformat": 4,
 "nbformat_minor": 2
}
