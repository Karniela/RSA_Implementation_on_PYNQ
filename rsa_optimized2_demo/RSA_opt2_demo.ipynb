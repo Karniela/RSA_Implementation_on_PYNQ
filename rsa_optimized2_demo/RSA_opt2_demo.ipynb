{
 "cells": [
  {
   "cell_type": "markdown",
   "metadata": {},
   "source": [
    "## RSA Testbench\n",
    "\n",
    "\n",
    "This notebook is to test the implementation of a RSA decryption running on the programmable logic. "
   ]
  },
  {
   "cell_type": "code",
   "execution_count": 1,
   "metadata": {},
   "outputs": [],
   "source": [
    "from pynq import Overlay\n",
    "from pynq import MMIO\n",
    "import numpy as np\n",
    "import struct\n",
    "import binascii\n",
    "import math\n",
    "import cmath\n",
    "import random\n",
    "import sympy\n",
    "import matplotlib.pyplot as plt\n",
    "import time\n",
    "\n"
   ]
  },
  {
   "cell_type": "code",
   "execution_count": 2,
   "metadata": {},
   "outputs": [
    {
     "data": {
      "application/javascript": [
       "\n",
       "try {\n",
       "require(['notebook/js/codecell'], function(codecell) {\n",
       "  codecell.CodeCell.options_default.highlight_modes[\n",
       "      'magic_text/x-csrc'] = {'reg':[/^%%microblaze/]};\n",
       "  Jupyter.notebook.events.one('kernel_ready.Kernel', function(){\n",
       "      Jupyter.notebook.get_cells().map(function(cell){\n",
       "          if (cell.cell_type == 'code'){ cell.auto_highlight(); } }) ;\n",
       "  });\n",
       "});\n",
       "} catch (e) {};\n"
      ]
     },
     "metadata": {},
     "output_type": "display_data"
    },
    {
     "data": {
      "application/javascript": [
       "\n",
       "try {\n",
       "require(['notebook/js/codecell'], function(codecell) {\n",
       "  codecell.CodeCell.options_default.highlight_modes[\n",
       "      'magic_text/x-csrc'] = {'reg':[/^%%pybind11/]};\n",
       "  Jupyter.notebook.events.one('kernel_ready.Kernel', function(){\n",
       "      Jupyter.notebook.get_cells().map(function(cell){\n",
       "          if (cell.cell_type == 'code'){ cell.auto_highlight(); } }) ;\n",
       "  });\n",
       "});\n",
       "} catch (e) {};\n"
      ]
     },
     "metadata": {},
     "output_type": "display_data"
    }
   ],
   "source": [
    "ol=Overlay('./opt2_demo.bit') #Change name of bitstream as required"
   ]
  },
  {
   "cell_type": "code",
   "execution_count": 3,
   "metadata": {},
   "outputs": [],
   "source": [
    "rsa_ip=MMIO(0x40000000,10000) #Change base address as required"
   ]
  },
  {
   "cell_type": "code",
   "execution_count": 4,
   "metadata": {},
   "outputs": [],
   "source": [
    "half_bit = 128\n",
    "NUM_SAMPLES = 5\n",
    "def gen_p_q(bit):\n",
    "    primes = [i for i in range(1 << (bit-2), min((1 << (bit - 2)) + 20000, (1 << (bit-1)))) if sympy.isprime(i)]\n",
    "    #print(primes)\n",
    "    while(True):\n",
    "        p = random.choice(primes)\n",
    "        if(sympy.isprime(2*p+1)):\n",
    "            break\n",
    "        \n",
    "    while(True):\n",
    "        q = random.choice(primes)\n",
    "        if(sympy.isprime(2*q+1) and q != p):\n",
    "            break\n",
    "        \n",
    "    return 2*p+1, 2*q+1\n",
    "\n",
    "\n",
    "def gen_d(e, p, q):\n",
    "    d = pow(e, -1, (p-1) * (q-1))\n",
    "    return d\n",
    "\n",
    "p, q = gen_p_q(half_bit)\n",
    "e = 65537\n",
    "d = gen_d(e, p, q)\n",
    "n = p * q"
   ]
  },
  {
   "cell_type": "code",
   "execution_count": 5,
   "metadata": {},
   "outputs": [
    {
     "name": "stdout",
     "output_type": "stream",
     "text": [
      "Result from FPGA: 1568778431203087221099399762546626605421697598282153037443198053731821249099\n",
      "Golden x: 1568778431203087221099399762546626605421697598282153037443198053731821249099\n",
      "Test 1: PASS - FPGA output matches golden output\n",
      "Result from FPGA: 2904960047143273537652411316718990622592179519742551013914581787794664690576\n",
      "Golden x: 2904960047143273537652411316718990622592179519742551013914581787794664690576\n",
      "Test 2: PASS - FPGA output matches golden output\n",
      "Result from FPGA: 230794932791908138464634396270271154138079502439180112723521049738852512730\n",
      "Golden x: 230794932791908138464634396270271154138079502439180112723521049738852512730\n",
      "Test 3: PASS - FPGA output matches golden output\n",
      "Result from FPGA: 2802673193063888591133985566907465721208309368600998209845582833219575325951\n",
      "Golden x: 2802673193063888591133985566907465721208309368600998209845582833219575325951\n",
      "Test 4: PASS - FPGA output matches golden output\n",
      "Result from FPGA: 11836931438007097857955469516213397439338199403078734880725989189119740824932\n",
      "Golden x: 11836931438007097857955469516213397439338199403078734880725989189119740824932\n",
      "Test 5: PASS - FPGA output matches golden output\n"
     ]
    }
   ],
   "source": [
    "# Helper function to split a large integer into 32-bit chunks\n",
    "def split_256bit(value):\n",
    "    chunks = [(value >> (32 * i)) & 0xFFFFFFFF for i in range(8)]\n",
    "    return chunks\n",
    "\n",
    "def combine_256bit(chunks):\n",
    "    return sum((chunk << (32 * i)) for i, chunk in enumerate(chunks))\n",
    "\n",
    "for i in range(NUM_SAMPLES):\n",
    "    #Computing golden output\n",
    "    gold_x = random.randint(1, (p-1) * (q-1) - 1)\n",
    "    \n",
    "    #Generating random inputs\n",
    "    y=pow(gold_x, e, n)\n",
    "    x2 = pow(y, d, n)\n",
    "    #print(y)\n",
    "    #print(d)\n",
    "    #print(n)\n",
    "    #print(x2)\n",
    "    \n",
    "    #Converting input to bytes to be sent to FPGA\n",
    "    y_chunks = split_256bit(y)\n",
    "    d_chunks = split_256bit(d)\n",
    "    n_chunks = split_256bit(n)\n",
    "\n",
    "    \n",
    " \n",
    "    #Writing values to the FPGA\n",
    "    n_offsets = [0x34, 0x38, 0x3C, 0x40, 0x44, 0x48, 0x4C, 0x50]\n",
    "    d_offsets = [0x10, 0x14, 0x18, 0x1C, 0x20, 0x24, 0x28, 0x2C]  \n",
    "    y_offsets = [0x58, 0x5c, 0x60, 0x64, 0x68, 0x6C, 0x70, 0x74] \n",
    "    \n",
    "    for j in range(8):\n",
    "        rsa_ip.write(n_offsets[j], n_chunks[j])\n",
    "        rsa_ip.write(d_offsets[j], d_chunks[j])\n",
    "        rsa_ip.write(y_offsets[j], y_chunks[j])\n",
    "        \n",
    "    #Starting and stopping the IP (Don't change this)\n",
    "    rsa_ip.write(0x00,1)\n",
    "    rsa_ip.write(0x00,0)\n",
    "    \n",
    "    #Reading from IP\n",
    "    #x_offsets = [0x98, 0x94, 0x90, 0x8C, 0x88, 0x84, 0x80, 0x7C]\n",
    "    time.sleep(1)\n",
    "    x_offsets = [0x7C, 0x80, 0x84, 0x88, 0x8C, 0x90, 0x94, 0x98]\n",
    "    x_chunks = [rsa_ip.read(offset) for offset in x_offsets]\n",
    "    x = combine_256bit(x_chunks)\n",
    "\n",
    "    \n",
    "    # Displaying the result\n",
    "    print(f\"Result from FPGA: {x}\")\n",
    "    print(f\"Golden x: {gold_x}\")\n",
    "    \n",
    "    \n",
    "    # Comparing with golden output\n",
    "    # x (decrypted from FPGA) should match the original gold_x\n",
    "    if x == gold_x:\n",
    "        print(f\"Test {i + 1}: PASS - FPGA output matches golden output\")\n",
    "    else:\n",
    "        print(f\"Test {i + 1}: FAIL - FPGA output does not match golden output\")"
   ]
  },
  {
   "cell_type": "code",
   "execution_count": null,
   "metadata": {},
   "outputs": [],
   "source": []
  },
  {
   "cell_type": "code",
   "execution_count": null,
   "metadata": {},
   "outputs": [],
   "source": []
  }
 ],
 "metadata": {
  "kernelspec": {
   "display_name": "Python 3 (ipykernel)",
   "language": "python",
   "name": "python3"
  },
  "language_info": {
   "codemirror_mode": {
    "name": "ipython",
    "version": 3
   },
   "file_extension": ".py",
   "mimetype": "text/x-python",
   "name": "python",
   "nbconvert_exporter": "python",
   "pygments_lexer": "ipython3",
   "version": "3.10.4"
  }
 },
 "nbformat": 4,
 "nbformat_minor": 2
}
